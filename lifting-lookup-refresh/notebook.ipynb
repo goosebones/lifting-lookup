{
 "cells": [
  {
   "cell_type": "code",
   "execution_count": 1,
   "metadata": {},
   "outputs": [
    {
     "name": "stdout",
     "output_type": "stream",
     "text": [
      "Initializing environment\n"
     ]
    }
   ],
   "source": [
    "import pandas as pd\n",
    "from datetime import datetime\n",
    "\n",
    "from lifting_cast import LiftingCast\n",
    "from aws import DynamoLifter, DynamoLifterUpdate\n"
   ]
  },
  {
   "cell_type": "code",
   "execution_count": 2,
   "metadata": {},
   "outputs": [
    {
     "name": "stdout",
     "output_type": "stream",
     "text": [
      "begin fetch_lifters\n",
      "begin fetch_lifters iteration - 10 meets\n",
      "fetched 0 lifters for 2024 CPU Central Championships - Day 2\n",
      "fetched 0 lifters for TSS-UTSA Invitational #12\n",
      "fetched 89 lifters for 2024 CPU Central Championships - Day 1\n",
      "fetched 37 lifters for 8th Annual Powerlifting America Southwest Florida Open Championship (2024-FL-02)\n",
      "fetched 43 lifters for Winneconne Last Chance Meet\n",
      "fetched 0 lifters for 2024 Special Olympics Texas Winter Games\n",
      "fetched 34 lifters for Independence Gilmanton WHSPA Regional\n",
      "fetched 14 lifters for The Real McCloy Bench Press Only\n",
      "fetched 3 lifters for Pro League Uttarakhand championship 2024\n",
      "fetched 234 lifters for THSPA AGGIE SHOWDOWN 2024 V2\n",
      "fetch_lifters iteration finished. Failed: 0\n",
      "end fetch_lifters\n"
     ]
    }
   ],
   "source": [
    "L = LiftingCast()\n",
    "meets = L.fetch_meets()\n",
    "lifters = L.fetch_lifters(meets[:10])\n",
    "\n",
    "\n"
   ]
  },
  {
   "cell_type": "code",
   "execution_count": 3,
   "metadata": {},
   "outputs": [
    {
     "name": "stdout",
     "output_type": "stream",
     "text": [
      "Fetching lifters from dynamo\n"
     ]
    },
    {
     "name": "stderr",
     "output_type": "stream",
     "text": [
      "c:\\Users\\Gunther\\Desktop\\lifting-lookup\\lifting-lookup-refresh\\.venv\\Lib\\site-packages\\awswrangler\\dynamodb\\_read.py:410: UserWarning: Attempting DynamoDB Scan operation with arguments:\n",
      "{'ConsistentRead': False}\n",
      "  warnings.warn(\n",
      "c:\\Users\\Gunther\\Desktop\\lifting-lookup\\lifting-lookup-refresh\\.venv\\Lib\\site-packages\\awswrangler\\_distributed.py:104: FutureWarning: promote has been superseded by mode='default'.\n",
      "  return cls.dispatch_func(func)(*args, **kw)\n"
     ]
    }
   ],
   "source": [
    "\n",
    "scraped_lifters = pd.DataFrame(lifters)\n",
    "\n",
    "# lifters that we are currently storing\n",
    "print(\"Fetching lifters from dynamo\")\n",
    "aws_lifter = DynamoLifter()\n",
    "stored_lifters = aws_lifter.get_lifters()\n"
   ]
  },
  {
   "cell_type": "code",
   "execution_count": 4,
   "metadata": {},
   "outputs": [],
   "source": [
    "\n",
    "# create two dataframes for each action we need to do\n",
    "lifters_to_delete = pd.DataFrame()\n",
    "lifters_to_insert = pd.DataFrame()\n",
    "if \"lifter_id\" in scraped_lifters.columns and \"lifter_id\" in stored_lifters.columns:\n",
    "    lifters_to_delete = stored_lifters[\n",
    "        ~stored_lifters.lifter_id.isin(scraped_lifters.lifter_id)\n",
    "    ]\n",
    "    lifters_to_insert = scraped_lifters[\n",
    "        ~scraped_lifters.lifter_id.isin(stored_lifters.lifter_id)\n",
    "    ]\n",
    "\n"
   ]
  },
  {
   "cell_type": "code",
   "execution_count": 10,
   "metadata": {},
   "outputs": [
    {
     "name": "stdout",
     "output_type": "stream",
     "text": [
      "Initializing environment\n"
     ]
    },
    {
     "name": "stderr",
     "output_type": "stream",
     "text": [
      "c:\\Users\\Gunther\\Desktop\\lifting-lookup\\lifting-lookup-refresh\\.venv\\Lib\\site-packages\\awswrangler\\dynamodb\\_read.py:410: UserWarning: Attempting DynamoDB Scan operation with arguments:\n",
      "{'ConsistentRead': False}\n",
      "  warnings.warn(\n"
     ]
    }
   ],
   "source": [
    "from dotenv import load_dotenv\n",
    "import os\n",
    "import awswrangler as wr\n",
    "\n",
    "print(\"Initializing environment\")\n",
    "load_dotenv()\n",
    "\n",
    "class VIPLifterSubscription:\n",
    "    def __init__(self):\n",
    "        self.vip_lifter_subscription_table_name = os.environ.get(\"AWS_DYNAMO_VIP_LIFTER_SUBSCRIPTION_TABLE_NAME\")\n",
    "        \n",
    "    def get_vip_lifter_subscriptions(self):\n",
    "        return wr.dynamodb.read_items(\n",
    "            table_name=self.vip_lifter_subscription_table_name,\n",
    "            allow_full_scan=True,\n",
    "            as_dataframe=False\n",
    "        )\n",
    "\n",
    "VIP = VIPLifterSubscription()\n",
    "subs = VIP.get_vip_lifter_subscriptions()\n",
    "\n"
   ]
  },
  {
   "cell_type": "code",
   "execution_count": 24,
   "metadata": {},
   "outputs": [
    {
     "data": {
      "text/plain": [
       "datetime.date(2024, 2, 15)"
      ]
     },
     "execution_count": 24,
     "metadata": {},
     "output_type": "execute_result"
    }
   ],
   "source": [
    "datetime.now().date()"
   ]
  },
  {
   "cell_type": "code",
   "execution_count": 14,
   "metadata": {},
   "outputs": [],
   "source": [
    "\n",
    "subscription_df = pd.DataFrame(subs)\n",
    "subscription_df = subscription_df.explode('subscription_list')\n",
    "subscription_df.rename(columns={\"subscription_list\": \"lifter_name\"}, inplace=True)\n",
    "subscription_df = subscription_df[subscription_df[\"lifter_name\"].notna()]\n"
   ]
  },
  {
   "cell_type": "code",
   "execution_count": 38,
   "metadata": {},
   "outputs": [
    {
     "name": "stderr",
     "output_type": "stream",
     "text": [
      "C:\\Users\\Gunther\\AppData\\Local\\Temp\\ipykernel_1968\\1921409407.py:9: SettingWithCopyWarning: \n",
      "A value is trying to be set on a copy of a slice from a DataFrame.\n",
      "Try using .loc[row_indexer,col_indexer] = value instead\n",
      "\n",
      "See the caveats in the documentation: https://pandas.pydata.org/pandas-docs/stable/user_guide/indexing.html#returning-a-view-versus-a-copy\n",
      "  lifters_to_insert[\"scrubbed_lifter_name\"] = lifters_to_insert.apply(scrub_lifter_lifter_name, axis=1)\n"
     ]
    }
   ],
   "source": [
    "import re\n",
    "from datetime import datetime\n",
    "\n",
    "def scrub_lifter_lifter_name(lifter):\n",
    "    name = lifter[\"lifter_name\"]\n",
    "    scrubbed_name = re.sub(r'[\\d\\s-]+', '', name).lower()\n",
    "    return scrubbed_name\n",
    "\n",
    "lifters_to_insert[\"scrubbed_lifter_name\"] = lifters_to_insert.apply(scrub_lifter_lifter_name, axis=1)\n",
    "subscription_df[\"scrubbed_lifter_name\"] = subscription_df.apply(scrub_lifter_lifter_name, axis=1)\n",
    "\n",
    "notifications = subscription_df.merge(lifters_to_insert, on='scrubbed_lifter_name')\n",
    "notifications['meet_date'] = pd.to_datetime(notifications['meet_date'], format='%m/%d/%Y')\n",
    "notifications = notifications[notifications['meet_date'] >= datetime.now()]\n"
   ]
  },
  {
   "cell_type": "code",
   "execution_count": 33,
   "metadata": {},
   "outputs": [],
   "source": []
  },
  {
   "cell_type": "code",
   "execution_count": 39,
   "metadata": {},
   "outputs": [],
   "source": [
    "# emails_df = notifications.groupby('subscriber_email')['lifter_name_x'].apply(list)\n",
    "emails_dict = {group_key: group_rows.to_dict(orient='records') for group_key, group_rows in notifications.groupby('subscriber_email')}\n"
   ]
  },
  {
   "cell_type": "code",
   "execution_count": 43,
   "metadata": {},
   "outputs": [],
   "source": [
    "import boto3\n",
    "email_client = boto3.client('ses')\n",
    "\n",
    "def generate_email_html(subscriber_email, lifter_notifications):\n",
    "    body = f\"\"\"\n",
    "    <p>Greetings {subscriber_email},</p>\n",
    "    <p>This notification is to alert you of the following lifters registerting for a meet:</p>\n",
    "    \"\"\"\n",
    "    for lifter in lifter_notifications:\n",
    "        body += f\"\"\"<li>{lifter['lifter_name_x']} - <a href=\"https://liftingcast.com/meets/{lifter['meet_id']}/lifter/{lifter['lifter_id']}/info\">{lifter['meet_name']}</a></li>\"\"\"\n",
    "    \n",
    "    body += f\"\"\"\n",
    "    <p>To update your VIP Lifter Notification settings, please visit <a href=\"liftinglookup.com/account/vip\">LiftingLookup</a>.\n",
    "    You can also reply directly to this email with any issues or concerns.</p>\n",
    "    \"\"\"\n",
    "    return body\n",
    "\n",
    "\n",
    "for subscriber_email, lifter_notifications in emails_dict.items():\n",
    "    send_args = {\n",
    "        \"Source\": \"vip-notification@liftinglookup.com\",\n",
    "        \"Destination\": {\n",
    "            \"ToAddresses\":  [subscriber_email],\n",
    "            \"BccAddresses\": [\"vip-notification@liftinglookup.com\"]\n",
    "        },\n",
    "        \"Message\": {\n",
    "            \"Subject\": {\"Data\": \"LiftingLookup VIP Lifter Notification\"},\n",
    "            \"Body\": {\"Html\": {\"Data\": generate_email_html(subscriber_email, lifter_notifications)}}\n",
    "        }\n",
    "    }\n",
    "    email_client.send_email(**send_args)\n"
   ]
  }
 ],
 "metadata": {
  "kernelspec": {
   "display_name": ".venv",
   "language": "python",
   "name": "python3"
  },
  "language_info": {
   "codemirror_mode": {
    "name": "ipython",
    "version": 3
   },
   "file_extension": ".py",
   "mimetype": "text/x-python",
   "name": "python",
   "nbconvert_exporter": "python",
   "pygments_lexer": "ipython3",
   "version": "3.12.0"
  }
 },
 "nbformat": 4,
 "nbformat_minor": 2
}
