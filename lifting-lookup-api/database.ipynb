{
 "cells": [
  {
   "cell_type": "code",
   "execution_count": 2,
   "metadata": {},
   "outputs": [],
   "source": [
    "from sqlalchemy import create_engine, text\n",
    "from sqlalchemy.engine import URL\n",
    "\n",
    "\n",
    "# TODO get these fields from dotenv\n",
    "url_object = URL.create(\n",
    "    drivername='postgresql+psycopg',\n",
    "    host='',\n",
    "    database='postgres',\n",
    "    username='',\n",
    "    password=''\n",
    ")\n",
    "\n",
    "engine = create_engine(url_object)\n",
    "\n",
    "\n",
    "\n"
   ]
  },
  {
   "cell_type": "code",
   "execution_count": 3,
   "metadata": {},
   "outputs": [
    {
     "name": "stdout",
     "output_type": "stream",
     "text": [
      "('Gunther', \"Gunther's Test Meet\", datetime.date(2024, 1, 1))\n"
     ]
    }
   ],
   "source": [
    "query = text(\"\"\"\n",
    "            SELECT *\n",
    "            FROM liftinglookup.meet\n",
    "             \"\"\")\n",
    "\n",
    "with engine.connect() as conn:\n",
    "    res = conn.execute(query)\n",
    "    for row in res:\n",
    "        print(row)"
   ]
  },
  {
   "cell_type": "code",
   "execution_count": 4,
   "metadata": {},
   "outputs": [],
   "source": [
    "from lookup import LiftingCast\n",
    "\n",
    "liftingcast = LiftingCast()\n"
   ]
  },
  {
   "cell_type": "code",
   "execution_count": 5,
   "metadata": {},
   "outputs": [],
   "source": [
    "\n",
    "liftingcast.fetch_meets()\n"
   ]
  },
  {
   "cell_type": "code",
   "execution_count": 6,
   "metadata": {},
   "outputs": [],
   "source": [
    "from multiprocessing import Pool\n",
    "from selenium import webdriver\n",
    "from selenium.webdriver.chrome.service import Service as ChromeService\n",
    "from webdriver_manager.chrome import ChromeDriverManager\n",
    "from selenium.webdriver.common.by import By\n",
    "from tqdm import tqdm\n",
    "\n",
    "\n",
    "def fetch_lifters_from_meet(meet):\n",
    "    print(f\"fetching lifters for {meet['name']}\")\n",
    "    options = webdriver.ChromeOptions()\n",
    "    options.add_argument(\"headless\")\n",
    "    driver = webdriver.Chrome(\n",
    "        options=options, service=ChromeService(ChromeDriverManager().install())\n",
    "    )\n",
    "    driver.implicitly_wait(2)\n",
    "    meet_url = f\"https://liftingcast.com/meets/{meet['meet_id']}/roster\"\n",
    "    driver.get(meet_url)\n",
    "    lifters = driver.find_elements(By.TAG_NAME, \"a\")\n",
    "    result = []\n",
    "    for lifter in lifters:\n",
    "        lifter_id = lifter.get_attribute(\"href\").split(\"/\")[-1]\n",
    "        result.append(                   \n",
    "            {\n",
    "                \"name\": lifter.text,\n",
    "                \"lifter_id\": lifter_id,\n",
    "                \"meet\": meet[\"name\"],\n",
    "                \"meet_id\": meet[\"meet_id\"],\n",
    "            }\n",
    "        )     \n",
    "    return result\n",
    "\n",
    "if __name__ == \"__main__\":\n",
    "    pool = Pool(5)\n",
    "    for _ in tqdm(pool.map(fetch_lifters_from_meet, liftingcast.meets[:10])):\n",
    "        pass\n",
    "\n"
   ]
  },
  {
   "cell_type": "code",
   "execution_count": 9,
   "metadata": {},
   "outputs": [
    {
     "name": "stderr",
     "output_type": "stream",
     "text": [
      "100%|██████████| 526/526 [33:13<00:00,  3.79s/it]  \n"
     ]
    }
   ],
   "source": [
    "liftingcast.fetch_lifters()\n"
   ]
  },
  {
   "cell_type": "code",
   "execution_count": 12,
   "metadata": {},
   "outputs": [],
   "source": [
    "l = liftingcast.lifters"
   ]
  },
  {
   "cell_type": "code",
   "execution_count": 6,
   "metadata": {},
   "outputs": [],
   "source": [
    "# liftingcast.fetch_lifter_details()\n"
   ]
  },
  {
   "cell_type": "code",
   "execution_count": 17,
   "metadata": {},
   "outputs": [],
   "source": [
    "\n",
    "lifter_lists = [meet['Lifters'] for meet in liftingcast.meets if 'Lifters' in meet]\n",
    "lifters = [item for sub_list in lifter_lists for item in sub_list]\n",
    "\n"
   ]
  },
  {
   "cell_type": "code",
   "execution_count": 8,
   "metadata": {},
   "outputs": [],
   "source": [
    "import boto3\n",
    "from botocore.config import Config\n",
    "from dotenv import load_dotenv\n",
    "load_dotenv()\n",
    "dynamodb_config = Config(\n",
    "    region_name = 'us-east-2'\n",
    ")\n",
    "\n",
    "dynamodb = boto3.resource('dynamodb', config=dynamodb_config)\n",
    "lifter_table = dynamodb.Table('lifter')\n",
    "\n"
   ]
  },
  {
   "cell_type": "code",
   "execution_count": 9,
   "metadata": {},
   "outputs": [
    {
     "name": "stdout",
     "output_type": "stream",
     "text": [
      "{'Items': [{'lifter_id': '1234', 'name': 'Gunther Kroth'}], 'Count': 1, 'ScannedCount': 1, 'ResponseMetadata': {'RequestId': '9HC0TQ4EET8OO8V74RD5U3SGRNVV4KQNSO5AEMVJF66Q9ASUAAJG', 'HTTPStatusCode': 200, 'HTTPHeaders': {'server': 'Server', 'date': 'Fri, 27 Oct 2023 04:31:27 GMT', 'content-type': 'application/x-amz-json-1.0', 'content-length': '94', 'connection': 'keep-alive', 'x-amzn-requestid': '9HC0TQ4EET8OO8V74RD5U3SGRNVV4KQNSO5AEMVJF66Q9ASUAAJG', 'x-amz-crc32': '1023172865'}, 'RetryAttempts': 0}}\n"
     ]
    }
   ],
   "source": [
    "\n",
    "\n",
    "res = lifter_table.scan()\n",
    "print(res)\n"
   ]
  },
  {
   "cell_type": "code",
   "execution_count": 20,
   "metadata": {},
   "outputs": [],
   "source": [
    "with lifter_table.batch_writer() as bw:\n",
    "    for l in lifters:\n",
    "        bw.put_item(Item=l)"
   ]
  }
 ],
 "metadata": {
  "kernelspec": {
   "display_name": ".venv",
   "language": "python",
   "name": "python3"
  },
  "language_info": {
   "codemirror_mode": {
    "name": "ipython",
    "version": 3
   },
   "file_extension": ".py",
   "mimetype": "text/x-python",
   "name": "python",
   "nbconvert_exporter": "python",
   "pygments_lexer": "ipython3",
   "version": "3.12.0"
  }
 },
 "nbformat": 4,
 "nbformat_minor": 2
}
